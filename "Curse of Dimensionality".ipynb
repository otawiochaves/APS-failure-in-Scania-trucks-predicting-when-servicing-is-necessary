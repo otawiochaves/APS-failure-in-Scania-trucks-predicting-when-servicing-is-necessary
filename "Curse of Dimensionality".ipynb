{
 "cells": [
  {
   "cell_type": "markdown",
   "metadata": {},
   "source": [
    "<h2 style=\"text-align:center;font-weight:bold\">Dataset on APS failure in Scania trucks: predicting when servicing is necessary.</h2>"
   ]
  },
  {
   "cell_type": "markdown",
   "metadata": {},
   "source": [
    "<h2 style=\"text-align:center;font-weight:bold\">\"Curse of Dimensionality\"</h2>"
   ]
  },
  {
   "cell_type": "markdown",
   "metadata": {},
   "source": [
    "Machine learning algorithms are renowned for their ability to extract relevant information from resource-intensive datasets, including large tables and photos with millions of pixels. With advances in computing, machine learning models can now perform massive tasks with minimal knowledge of the computational power required.\n",
    "\n",
    "However, as the number of features in an experiment increases, so does its complexity, making it more difficult for machine learning algorithms to solve. To address this, data scientists use dimensionality reduction to reduce the number of redundant and irrelevant features in their models. By simplifying the model, they can handle complex problems with less data and fewer computational resources.\n",
    "\n",
    "Sometimes, features in a dataset may not have a causal connection to the target variable but may still be associated with it. To account for this, complex models require more data and computational resources. However, models that attempt to map any feature present in their dataset to the intended variable, even in the absence of a causal connection, can lead to inaccurate results. Reducing the number of features can make the model simpler, more efficient, and less data-intensive.\n",
    "\n",
    "The “curse of dimensionality” arises when there are too many features, degrading the performance of the machine learning model or reducing its accuracy. Dimensionality reduction techniques are useful in these situations to identify and remove these features."
   ]
  },
  {
   "cell_type": "code",
   "execution_count": null,
   "metadata": {},
   "outputs": [],
   "source": []
  },
  {
   "cell_type": "markdown",
   "metadata": {},
   "source": [
    "Dickson, B. (2021). Machine learning: What is dimensionality reduction? [online] TechTalks. Available at: https://bdtechtalks.com/2021/05/13/machine-learning-dimensionality-reduction/"
   ]
  },
  {
   "cell_type": "code",
   "execution_count": null,
   "metadata": {},
   "outputs": [],
   "source": []
  }
 ],
 "metadata": {
  "kernelspec": {
   "display_name": "Python 3",
   "language": "python",
   "name": "python3"
  },
  "language_info": {
   "codemirror_mode": {
    "name": "ipython",
    "version": 3
   },
   "file_extension": ".py",
   "mimetype": "text/x-python",
   "name": "python",
   "nbconvert_exporter": "python",
   "pygments_lexer": "ipython3",
   "version": "3.8.5"
  }
 },
 "nbformat": 4,
 "nbformat_minor": 4
}
